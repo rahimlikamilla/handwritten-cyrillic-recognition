{
 "cells": [
  {
   "cell_type": "markdown",
   "id": "c06576f3-0d3f-4b4a-a8ca-0e209fcc2f1b",
   "metadata": {},
   "source": [
    "Handwritten Text Recognition (HTR) is a Sequence-to-sequence (Seq2Seq) task, which is a specialized form of Structured Output that goes beyond simple image classification.\n"
   ]
  },
  {
   "cell_type": "code",
   "execution_count": 60,
   "id": "faf973d8-186d-4692-a3dd-1159bfa0cfdf",
   "metadata": {},
   "outputs": [],
   "source": [
    "import numpy as np\n",
    "import pandas as pd"
   ]
  },
  {
   "cell_type": "code",
   "execution_count": 67,
   "id": "727a1db9-0478-4fae-b2a8-3f5c6834e4ab",
   "metadata": {},
   "outputs": [
    {
     "data": {
      "text/html": [
       "<div>\n",
       "<style scoped>\n",
       "    .dataframe tbody tr th:only-of-type {\n",
       "        vertical-align: middle;\n",
       "    }\n",
       "\n",
       "    .dataframe tbody tr th {\n",
       "        vertical-align: top;\n",
       "    }\n",
       "\n",
       "    .dataframe thead th {\n",
       "        text-align: right;\n",
       "    }\n",
       "</style>\n",
       "<table border=\"1\" class=\"dataframe\">\n",
       "  <thead>\n",
       "    <tr style=\"text-align: right;\">\n",
       "      <th></th>\n",
       "      <th>filename</th>\n",
       "      <th>line</th>\n",
       "    </tr>\n",
       "  </thead>\n",
       "  <tbody>\n",
       "    <tr>\n",
       "      <th>0</th>\n",
       "      <td>aa1.png</td>\n",
       "      <td>Молдова</td>\n",
       "    </tr>\n",
       "    <tr>\n",
       "      <th>1</th>\n",
       "      <td>aa1007.png</td>\n",
       "      <td>продолжила борьбу</td>\n",
       "    </tr>\n",
       "    <tr>\n",
       "      <th>2</th>\n",
       "      <td>aa101.png</td>\n",
       "      <td>разработанные</td>\n",
       "    </tr>\n",
       "    <tr>\n",
       "      <th>3</th>\n",
       "      <td>aa1012.png</td>\n",
       "      <td>Плачи</td>\n",
       "    </tr>\n",
       "    <tr>\n",
       "      <th>4</th>\n",
       "      <td>aa1013.png</td>\n",
       "      <td>Гимны богам</td>\n",
       "    </tr>\n",
       "    <tr>\n",
       "      <th>...</th>\n",
       "      <td>...</td>\n",
       "      <td>...</td>\n",
       "    </tr>\n",
       "    <tr>\n",
       "      <th>72281</th>\n",
       "      <td>yob20539.png</td>\n",
       "      <td>Ответственность в/сл-</td>\n",
       "    </tr>\n",
       "    <tr>\n",
       "      <th>72282</th>\n",
       "      <td>yob20543.png</td>\n",
       "      <td>независимо</td>\n",
       "    </tr>\n",
       "    <tr>\n",
       "      <th>72283</th>\n",
       "      <td>yob20544.png</td>\n",
       "      <td>от воинского звания</td>\n",
       "    </tr>\n",
       "    <tr>\n",
       "      <th>72284</th>\n",
       "      <td>yob20545.png</td>\n",
       "      <td>воинской</td>\n",
       "    </tr>\n",
       "    <tr>\n",
       "      <th>72285</th>\n",
       "      <td>yob20546.png</td>\n",
       "      <td>должности рав-</td>\n",
       "    </tr>\n",
       "  </tbody>\n",
       "</table>\n",
       "<p>72286 rows × 2 columns</p>\n",
       "</div>"
      ],
      "text/plain": [
       "           filename                   line\n",
       "0           aa1.png                Молдова\n",
       "1        aa1007.png      продолжила борьбу\n",
       "2         aa101.png          разработанные\n",
       "3        aa1012.png                  Плачи\n",
       "4        aa1013.png            Гимны богам\n",
       "...             ...                    ...\n",
       "72281  yob20539.png  Ответственность в/сл-\n",
       "72282  yob20543.png             независимо\n",
       "72283  yob20544.png    от воинского звания\n",
       "72284  yob20545.png               воинской\n",
       "72285  yob20546.png         должности рав-\n",
       "\n",
       "[72286 rows x 2 columns]"
      ]
     },
     "execution_count": 67,
     "metadata": {},
     "output_type": "execute_result"
    }
   ],
   "source": [
    "# Loading the tsv\n",
    "train_df = pd.read_csv(\"./archive/train.tsv\", sep=\"\\t\", header=None)\n",
    "test_df = pd.read_csv(\"./archive/test.tsv\", sep=\"\\t\", header=None)\n",
    "# val_df = pd.read_csv(\"./archive/test.tsv\", sep=\"\\t\", header=None)\n",
    "\n",
    "# val_df.columns = [\"filename\", \"line\"]\n",
    "train_df.columns = [\"filename\", \"line\"]\n",
    "test_df.columns = [\"filename\", \"line\"]\n",
    "\n",
    "train_df"
   ]
  },
  {
   "cell_type": "code",
   "execution_count": 68,
   "id": "f25048e2-9da9-4e20-843c-c979a44bd49f",
   "metadata": {},
   "outputs": [
    {
     "name": "stdout",
     "output_type": "stream",
     "text": [
      "Bad samples containing non-cyrillic letters:\n",
      "\n",
      "filename    dem35055.png\n",
      "line                 ИhМ\n",
      "Name: 37735, dtype: object\n",
      "\n",
      "filename      pe4578.png\n",
      "line        R-эффективна\n",
      "Name: 47799, dtype: object\n",
      "\n",
      "filename    yob7358.png\n",
      "line         применения\n",
      "Name: 65613, dtype: object\n",
      "\n"
     ]
    }
   ],
   "source": [
    "# Preprocessing\n",
    "def tokenize(line):\n",
    "    line = line.lower()\n",
    "    tokens = line.split()\n",
    "    return tokens\n",
    "\n",
    "\n",
    "# Identify rows with missing values\n",
    "missing_vals_rows = train_df[train_df['line'].isna()]\n",
    "# 63652\tyob3873.png\tNaN\n",
    "# 64127\tyob4721.png\tNaN\n",
    "\n",
    "# Get rid of rows with NaN values\n",
    "train_df.dropna(inplace=True)\n",
    "test_df.dropna(inplace=True)\n",
    "# val_df.dropna(inplace=True)\n",
    "\n",
    "# Get rid of bad rows containing latin or non-cyrillic chars\n",
    "print(\"Bad samples containing non-cyrillic letters:\\n\")\n",
    "print(train_df.iloc[37735], end='\\n\\n')\n",
    "print(train_df.iloc[47799], end='\\n\\n')\n",
    "print(train_df.iloc[65611], end='\\n\\n')\n",
    "\n",
    "train_df.drop(index=37735, inplace=True)\n",
    "train_df.drop(index=47799, inplace=True)\n",
    "train_df.drop(index=65611, inplace=True)\n",
    "\n",
    "# Reset index, to generate new indexing\n",
    "train_df.reset_index(drop=True, inplace=True)\n",
    "test_df.reset_index(drop=True, inplace=True)\n",
    "# val_df.reset_index(drop=True, inplace=True)"
   ]
  },
  {
   "cell_type": "code",
   "execution_count": 69,
   "id": "af73008d-8843-4166-984b-0cf7c17c2d92",
   "metadata": {},
   "outputs": [
    {
     "name": "stdout",
     "output_type": "stream",
     "text": [
      "filename    dem35057.png\n",
      "line               кагра\n",
      "Name: 37735, dtype: object\n"
     ]
    }
   ],
   "source": [
    "print(train_df.iloc[37735])"
   ]
  },
  {
   "cell_type": "code",
   "execution_count": 70,
   "id": "1104e32f-4798-4566-8b96-ee2faf24be96",
   "metadata": {},
   "outputs": [
    {
     "data": {
      "text/html": [
       "<div>\n",
       "<style scoped>\n",
       "    .dataframe tbody tr th:only-of-type {\n",
       "        vertical-align: middle;\n",
       "    }\n",
       "\n",
       "    .dataframe tbody tr th {\n",
       "        vertical-align: top;\n",
       "    }\n",
       "\n",
       "    .dataframe thead th {\n",
       "        text-align: right;\n",
       "    }\n",
       "</style>\n",
       "<table border=\"1\" class=\"dataframe\">\n",
       "  <thead>\n",
       "    <tr style=\"text-align: right;\">\n",
       "      <th></th>\n",
       "      <th>filename</th>\n",
       "      <th>line</th>\n",
       "      <th>tokens</th>\n",
       "    </tr>\n",
       "  </thead>\n",
       "  <tbody>\n",
       "    <tr>\n",
       "      <th>0</th>\n",
       "      <td>aa1.png</td>\n",
       "      <td>Молдова</td>\n",
       "      <td>[молдова]</td>\n",
       "    </tr>\n",
       "    <tr>\n",
       "      <th>1</th>\n",
       "      <td>aa1007.png</td>\n",
       "      <td>продолжила борьбу</td>\n",
       "      <td>[продолжила, борьбу]</td>\n",
       "    </tr>\n",
       "    <tr>\n",
       "      <th>2</th>\n",
       "      <td>aa101.png</td>\n",
       "      <td>разработанные</td>\n",
       "      <td>[разработанные]</td>\n",
       "    </tr>\n",
       "    <tr>\n",
       "      <th>3</th>\n",
       "      <td>aa1012.png</td>\n",
       "      <td>Плачи</td>\n",
       "      <td>[плачи]</td>\n",
       "    </tr>\n",
       "    <tr>\n",
       "      <th>4</th>\n",
       "      <td>aa1013.png</td>\n",
       "      <td>Гимны богам</td>\n",
       "      <td>[гимны, богам]</td>\n",
       "    </tr>\n",
       "    <tr>\n",
       "      <th>...</th>\n",
       "      <td>...</td>\n",
       "      <td>...</td>\n",
       "      <td>...</td>\n",
       "    </tr>\n",
       "    <tr>\n",
       "      <th>72276</th>\n",
       "      <td>yob20539.png</td>\n",
       "      <td>Ответственность в/сл-</td>\n",
       "      <td>[ответственность, в/сл-]</td>\n",
       "    </tr>\n",
       "    <tr>\n",
       "      <th>72277</th>\n",
       "      <td>yob20543.png</td>\n",
       "      <td>независимо</td>\n",
       "      <td>[независимо]</td>\n",
       "    </tr>\n",
       "    <tr>\n",
       "      <th>72278</th>\n",
       "      <td>yob20544.png</td>\n",
       "      <td>от воинского звания</td>\n",
       "      <td>[от, воинского, звания]</td>\n",
       "    </tr>\n",
       "    <tr>\n",
       "      <th>72279</th>\n",
       "      <td>yob20545.png</td>\n",
       "      <td>воинской</td>\n",
       "      <td>[воинской]</td>\n",
       "    </tr>\n",
       "    <tr>\n",
       "      <th>72280</th>\n",
       "      <td>yob20546.png</td>\n",
       "      <td>должности рав-</td>\n",
       "      <td>[должности, рав-]</td>\n",
       "    </tr>\n",
       "  </tbody>\n",
       "</table>\n",
       "<p>72281 rows × 3 columns</p>\n",
       "</div>"
      ],
      "text/plain": [
       "           filename                   line                    tokens\n",
       "0           aa1.png                Молдова                 [молдова]\n",
       "1        aa1007.png      продолжила борьбу      [продолжила, борьбу]\n",
       "2         aa101.png          разработанные           [разработанные]\n",
       "3        aa1012.png                  Плачи                   [плачи]\n",
       "4        aa1013.png            Гимны богам            [гимны, богам]\n",
       "...             ...                    ...                       ...\n",
       "72276  yob20539.png  Ответственность в/сл-  [ответственность, в/сл-]\n",
       "72277  yob20543.png             независимо              [независимо]\n",
       "72278  yob20544.png    от воинского звания   [от, воинского, звания]\n",
       "72279  yob20545.png               воинской                [воинской]\n",
       "72280  yob20546.png         должности рав-         [должности, рав-]\n",
       "\n",
       "[72281 rows x 3 columns]"
      ]
     },
     "execution_count": 70,
     "metadata": {},
     "output_type": "execute_result"
    }
   ],
   "source": [
    "train_df[\"tokens\"] = train_df[\"line\"].apply(tokenize)\n",
    "test_df[\"tokens\"] = test_df[\"line\"].apply(tokenize)\n",
    "\n",
    "train_df"
   ]
  },
  {
   "cell_type": "code",
   "execution_count": 6,
   "id": "d4d0f5aa-e95f-46a8-97b6-042ac60e5a36",
   "metadata": {},
   "outputs": [
    {
     "name": "stdout",
     "output_type": "stream",
     "text": [
      "Vocabulary successfully built: 69 total characters\n",
      "char2idx vocab:  {'<BLANK>': 0, ' ': 1, '!': 2, '\"': 3, '%': 4, \"'\": 5, '(': 6, ')': 7, '+': 8, ',': 9, '-': 10, '.': 11, '/': 12, '0': 13, '1': 14, '2': 15, '3': 16, '4': 17, '5': 18, '6': 19, '7': 20, '8': 21, '9': 22, ':': 23, ';': 24, '=': 25, '?': 26, '[': 27, ']': 28, 'c': 29, 'x': 30, 'y': 31, '«': 32, '»': 33, 'а': 34, 'б': 35, 'в': 36, 'г': 37, 'д': 38, 'е': 39, 'ж': 40, 'з': 41, 'и': 42, 'й': 43, 'к': 44, 'л': 45, 'м': 46, 'н': 47, 'о': 48, 'п': 49, 'р': 50, 'с': 51, 'т': 52, 'у': 53, 'ф': 54, 'х': 55, 'ц': 56, 'ч': 57, 'ш': 58, 'щ': 59, 'ъ': 60, 'ы': 61, 'ь': 62, 'э': 63, 'ю': 64, 'я': 65, 'ё': 66, '№': 67, '<UNK>': 68}\n"
     ]
    }
   ],
   "source": [
    "# Build a vocab\n",
    "import unicodedata\n",
    "\n",
    "def build_char_vocab(df, text_col='line', lowercase=True, add_blank=True, add_unseen=True):\n",
    "    chars = set()\n",
    "    for index, text in df[text_col].items():\n",
    "        if not isinstance(text, str):\n",
    "            continue\n",
    "\n",
    "        # normalize unicode (important for cyrillic)\n",
    "        # bc these chars have multiple valid ways to encode a single visual\n",
    "        # character, 'NFC' - Normalization Form C\n",
    "        text = unicodedata.normalize('NFC', text)\n",
    "        text = text.lower() if lowercase else text\n",
    "\n",
    "        # update the character set (including punctuation and spaces)\n",
    "        chars.update(list(text))\n",
    "    \n",
    "    sorted_chars = sorted(chars)\n",
    "    \n",
    "    # Build mappings\n",
    "    char2idx = {}\n",
    "    idx = 0\n",
    "\n",
    "    # Start by adding special symbols\n",
    "    if add_blank:\n",
    "        char2idx['<BLANK>'] = idx\n",
    "        idx += 1\n",
    "\n",
    "    for ch in sorted_chars:\n",
    "        char2idx[ch] = idx\n",
    "        idx += 1\n",
    "\n",
    "    if add_unseen:\n",
    "        char2idx['<UNK>'] = idx\n",
    "\n",
    "    # Build reverse mapping\n",
    "    idx2char = {val: key for key, val in char2idx.items()}\n",
    "\n",
    "    print(f\"Vocabulary successfully built: {len(char2idx)} total characters\")\n",
    "\n",
    "    return char2idx, idx2char\n",
    "\n",
    "char2idx, idx2char = build_char_vocab(df=train_df, text_col='line')\n",
    "\n",
    "print(\"char2idx vocab: \", char2idx)"
   ]
  },
  {
   "cell_type": "markdown",
   "id": "ebae902a-f3c4-48d0-a0c8-059daf264d95",
   "metadata": {},
   "source": [
    "### Encoding and decoding for characters"
   ]
  },
  {
   "cell_type": "code",
   "execution_count": 7,
   "id": "ad1e2b7d-83d1-4313-86b4-7d09fa8c87c2",
   "metadata": {},
   "outputs": [
    {
     "name": "stdout",
     "output_type": "stream",
     "text": [
      "Привет! -> [49, 50, 42, 36, 39, 52, 2] -> привет!\n"
     ]
    }
   ],
   "source": [
    "def text_to_indices(text, char2idx):\n",
    "    text = unicodedata.normalize('NFC', text).lower()\n",
    "    indices = []\n",
    "    for ch in text:\n",
    "        if ch in char2idx and ch != '<BLANK>':\n",
    "            indices.append(char2idx[ch])\n",
    "        else:\n",
    "            indices.append(char2idx['<UNK>'])\n",
    "    return indices\n",
    "\n",
    "def indices_to_text(indices, idx2char):\n",
    "    text = \"\"\n",
    "    for i in indices:\n",
    "        text += idx2char[i] if idx2char[i] != '<BLANK>' else ''\n",
    "    return text\n",
    "\n",
    "\n",
    "# The <BLANK> is reserved for CTC, <UKN> for unseen chars\n",
    "\n",
    "sample = \"Привет!\"\n",
    "encoded = text_to_indices(sample, char2idx)\n",
    "decoded = indices_to_text(encoded, idx2char)\n",
    "\n",
    "print(sample, \"->\", encoded, \"->\", decoded)\n"
   ]
  },
  {
   "cell_type": "markdown",
   "id": "3556b5d7-a95b-4309-834c-968e14012f73",
   "metadata": {},
   "source": [
    "### Subset of the train_df\n",
    "To ease the task, we first try to feed our model single word input that should correspond to a single output. For that reason we create another dataset which is a subset of **train_df** (similarly, with test_df)"
   ]
  },
  {
   "cell_type": "code",
   "execution_count": 71,
   "id": "1b7a156d-5d5f-4745-b85c-079b771a43ac",
   "metadata": {},
   "outputs": [
    {
     "data": {
      "text/html": [
       "<div>\n",
       "<style scoped>\n",
       "    .dataframe tbody tr th:only-of-type {\n",
       "        vertical-align: middle;\n",
       "    }\n",
       "\n",
       "    .dataframe tbody tr th {\n",
       "        vertical-align: top;\n",
       "    }\n",
       "\n",
       "    .dataframe thead th {\n",
       "        text-align: right;\n",
       "    }\n",
       "</style>\n",
       "<table border=\"1\" class=\"dataframe\">\n",
       "  <thead>\n",
       "    <tr style=\"text-align: right;\">\n",
       "      <th></th>\n",
       "      <th>filename</th>\n",
       "      <th>line</th>\n",
       "      <th>tokens</th>\n",
       "    </tr>\n",
       "  </thead>\n",
       "  <tbody>\n",
       "    <tr>\n",
       "      <th>0</th>\n",
       "      <td>aa1.png</td>\n",
       "      <td>Молдова</td>\n",
       "      <td>[молдова]</td>\n",
       "    </tr>\n",
       "    <tr>\n",
       "      <th>1</th>\n",
       "      <td>aa101.png</td>\n",
       "      <td>разработанные</td>\n",
       "      <td>[разработанные]</td>\n",
       "    </tr>\n",
       "    <tr>\n",
       "      <th>2</th>\n",
       "      <td>aa1012.png</td>\n",
       "      <td>Плачи</td>\n",
       "      <td>[плачи]</td>\n",
       "    </tr>\n",
       "    <tr>\n",
       "      <th>3</th>\n",
       "      <td>aa1017.png</td>\n",
       "      <td>(вспомнить</td>\n",
       "      <td>[(вспомнить]</td>\n",
       "    </tr>\n",
       "    <tr>\n",
       "      <th>4</th>\n",
       "      <td>aa1018.png</td>\n",
       "      <td>миф</td>\n",
       "      <td>[миф]</td>\n",
       "    </tr>\n",
       "    <tr>\n",
       "      <th>...</th>\n",
       "      <td>...</td>\n",
       "      <td>...</td>\n",
       "      <td>...</td>\n",
       "    </tr>\n",
       "    <tr>\n",
       "      <th>64972</th>\n",
       "      <td>yob20531.png</td>\n",
       "      <td>бедствий</td>\n",
       "      <td>[бедствий]</td>\n",
       "    </tr>\n",
       "    <tr>\n",
       "      <th>64973</th>\n",
       "      <td>yob20534.png</td>\n",
       "      <td>обст-ах</td>\n",
       "      <td>[обст-ах]</td>\n",
       "    </tr>\n",
       "    <tr>\n",
       "      <th>64974</th>\n",
       "      <td>yob20535.png</td>\n",
       "      <td>исп-ют</td>\n",
       "      <td>[исп-ют]</td>\n",
       "    </tr>\n",
       "    <tr>\n",
       "      <th>64975</th>\n",
       "      <td>yob20543.png</td>\n",
       "      <td>независимо</td>\n",
       "      <td>[независимо]</td>\n",
       "    </tr>\n",
       "    <tr>\n",
       "      <th>64976</th>\n",
       "      <td>yob20545.png</td>\n",
       "      <td>воинской</td>\n",
       "      <td>[воинской]</td>\n",
       "    </tr>\n",
       "  </tbody>\n",
       "</table>\n",
       "<p>64977 rows × 3 columns</p>\n",
       "</div>"
      ],
      "text/plain": [
       "           filename           line           tokens\n",
       "0           aa1.png        Молдова        [молдова]\n",
       "1         aa101.png  разработанные  [разработанные]\n",
       "2        aa1012.png          Плачи          [плачи]\n",
       "3        aa1017.png     (вспомнить     [(вспомнить]\n",
       "4        aa1018.png            миф            [миф]\n",
       "...             ...            ...              ...\n",
       "64972  yob20531.png       бедствий       [бедствий]\n",
       "64973  yob20534.png        обст-ах        [обст-ах]\n",
       "64974  yob20535.png         исп-ют         [исп-ют]\n",
       "64975  yob20543.png     независимо     [независимо]\n",
       "64976  yob20545.png       воинской       [воинской]\n",
       "\n",
       "[64977 rows x 3 columns]"
      ]
     },
     "execution_count": 71,
     "metadata": {},
     "output_type": "execute_result"
    }
   ],
   "source": [
    "# # Filter\n",
    "# single_token_train_df = train_df[train_df[\"tokens\"].apply(len) == 1]\n",
    "# single_token_train_df.reset_index(drop=True, inplace=True)\n",
    "# single_token_train_df"
   ]
  },
  {
   "cell_type": "code",
   "execution_count": 8,
   "id": "38f0c852-b21a-4e9f-97af-469b4e748569",
   "metadata": {},
   "outputs": [],
   "source": [
    "# For testing purposes:\n",
    "def depict(image, label_tensor, label_str):\n",
    "    image_copy = image.squeeze(0)\n",
    "    plt.imshow(image_copy, cmap=\"gray\")\n",
    "    plt.title(label_str)"
   ]
  },
  {
   "cell_type": "markdown",
   "id": "67ed4505-8c94-4bac-bba7-5aa1b63dde6e",
   "metadata": {},
   "source": [
    "Batching: All images in a batch must have the exact same shape (e.g., 1×64×W \n",
    "max).\n",
    "\n"
   ]
  },
  {
   "cell_type": "code",
   "execution_count": 9,
   "id": "28558ffe-39a7-4277-b169-d0f248eb9f7f",
   "metadata": {},
   "outputs": [],
   "source": [
    "import torch\n",
    "from torch.utils.data import Dataset, DataLoader\n",
    "from torchvision import transforms\n",
    "# from torchvision.transforms import ToTensor\n",
    "\n",
    "import unicodedata\n",
    "import cv2\n",
    "from matplotlib import pyplot as plt\n",
    "import os\n",
    "from IPython.display import Image\n",
    "\n",
    "%matplotlib inline\n",
    "\n",
    "\n",
    "def resize_with_aspect(np_image, target_height):\n",
    "    if np_image is None:\n",
    "        return None\n",
    "\n",
    "    aspect_ratio = target_height / np_image.shape[0]\n",
    "    target_width = int(np_image.shape[1] * aspect_ratio)\n",
    "    dim = (target_width, target_height)\n",
    "    image = cv2.resize(np_image, dsize=dim, interpolation=cv2.INTER_AREA)\n",
    "    return image\n",
    "\n",
    "def pad_to_width(np_image, max_width):\n",
    "    orig_width = np_image.shape[1]\n",
    "    delta_w = max_width - orig_width\n",
    "    if delta_w > 0:\n",
    "        return cv2.copyMakeBorder(\n",
    "            src=np_image, top=0, bottom=0, left=0,\n",
    "            right=delta_w,  # Padding only from the right side\n",
    "            borderType=cv2.BORDER_CONSTANT,\n",
    "            value=0 # grayscale black padding\n",
    "        )\n",
    "    return np_image\n",
    "\n",
    "\n",
    "class CyrillicHandwritingDataset(Dataset):\n",
    "    def __init__(self, dataframe, images_dir, image_height=64, transform=None, char2idx=None):\n",
    "        self.data = dataframe\n",
    "        self.images_dir = images_dir\n",
    "        self.image_height = image_height\n",
    "        self.transform = transform  # convert an image to a tensor\n",
    "        self.char2idx = char2idx\n",
    "        self.labels = [\n",
    "            ' '.join(tokens) if isinstance(tokens, list) else tokens\n",
    "            for tokens in dataframe['tokens']\n",
    "        ]\n",
    "    \n",
    "        # Load and resize images\n",
    "        self.images = self._load_and_resize_images()\n",
    "\n",
    "        # Get max width for padding\n",
    "        self.max_width = max(img.shape[1] for img in self.images)\n",
    "\n",
    "        # Pad all resized images\n",
    "        self.images = [\n",
    "            pad_to_width(image, self.max_width) for image in self.images\n",
    "        ]\n",
    "\n",
    "    def _load_and_resize_images(self):\n",
    "        \"\"\"\n",
    "        Loading and resizing with aspect\n",
    "        \"\"\"\n",
    "        resized_images = []\n",
    "        for index, row in self.data.iterrows():\n",
    "            filename = row[\"filename\"]\n",
    "            image_path = os.path.abspath(os.path.join(self.images_dir, filename))\n",
    "            image = cv2.imread(image_path, cv2.IMREAD_GRAYSCALE)\n",
    "\n",
    "            # Resize this image\n",
    "            resized_image = resize_with_aspect(image, self.image_height)\n",
    "            resized_images.append(resized_image)\n",
    "\n",
    "        return resized_images\n",
    "\n",
    "    def text_to_indices(self, text):\n",
    "        text = unicodedata.normalize('NFC', text).lower()\n",
    "        indices = []\n",
    "        for ch in text:\n",
    "            if ch in self.char2idx and ch != '<BLANK>':\n",
    "                indices.append(self.char2idx[ch])\n",
    "            else:\n",
    "                indices.append(self.char2idx['<UNK>'])\n",
    "        return indices\n",
    "    \n",
    "    def __len__(self):\n",
    "        return len(self.images)\n",
    "\n",
    "    def __getitem__(self, idx):\n",
    "        image = self.images[idx]\n",
    "        label = self.labels[idx]\n",
    "\n",
    "        image_tensor = self.transform(image)\n",
    "        label_indices = self.text_to_indices(label)\n",
    "        label_tensor = torch.tensor(label_indices, dtype=torch.long)\n",
    "        \n",
    "        return image_tensor, label_tensor, label\n",
    "\n",
    "\n",
    "\n",
    "# Compose used to chain image transformations.\n",
    "transform_pipeline = transforms.Compose([\n",
    "    transforms.ToTensor()\n",
    "    # TODO: possibly include a normalization step here once mean and std is known \n",
    "])\n",
    "\n",
    "train_set = CyrillicHandwritingDataset(\n",
    "    dataframe=train_df,\n",
    "    images_dir=\"./archive/train/\",\n",
    "    image_height=64,\n",
    "    transform=transform_pipeline,\n",
    "    char2idx=char2idx\n",
    ")"
   ]
  },
  {
   "cell_type": "code",
   "execution_count": 10,
   "id": "43762781-1d61-46ed-8414-3f62537c1a12",
   "metadata": {},
   "outputs": [
    {
     "name": "stdout",
     "output_type": "stream",
     "text": [
      "Original label: молдова\n",
      "Encoded: tensor([46, 48, 45, 38, 48, 36, 34])\n",
      "Image shape: torch.Size([1, 64, 748])\n"
     ]
    }
   ],
   "source": [
    "img, label_tensor, label_str = train_set[0]\n",
    "\n",
    "print(\"Original label:\", label_str)\n",
    "print(\"Encoded:\", label_tensor)\n",
    "print(\"Image shape:\", img.shape)"
   ]
  },
  {
   "cell_type": "code",
   "execution_count": 15,
   "id": "592e93a5-ea5c-434b-919f-02369a0b8fa8",
   "metadata": {},
   "outputs": [
    {
     "data": {
      "image/png": "[encoded data removed]",
      "text/plain": [
       "<Figure size 640x480 with 1 Axes>"
      ]
     },
     "metadata": {},
     "output_type": "display_data"
    }
   ],
   "source": [
    "depict(*train_set[0])"
   ]
  },
  {
   "cell_type": "code",
   "execution_count": 15,
   "id": "ed33e4b1-45e1-4b65-8959-79869e222389",
   "metadata": {},
   "outputs": [],
   "source": [
    "from torch.utils.data import DataLoader\n",
    "\n",
    "\n",
    "def cyrillic_collate_fn(batch):\n",
    "    \"\"\"\n",
    "    batch: (image_tensor, label_tensor, label_str)\n",
    "    \"\"\"\n",
    "\n",
    "    batch.sort(key=lambda x: x[0].shape[-1], reverse=True)\n",
    "\n",
    "    images = [item[0] for item in batch]\n",
    "    labels = [item[1] for item in batch]\n",
    "    label_strs = [item[2] for item in batch]\n",
    "    images_padded = torch.stack(images, dim=0)\n",
    "    # All labels concatenated\n",
    "    labels_concat = torch.cat(labels)\n",
    "\n",
    "    # Effective sequence lengths after CNN\n",
    "    input_lengths = torch.full(\n",
    "        size=(len(images),),\n",
    "        fill_value=images_padded.shape[-1] // 4,\n",
    "        dtype=torch.long\n",
    "    )\n",
    "    # Label lenght (number of characters)\n",
    "    target_lengths = torch.tensor([len(label) for label in labels], dtype=torch.long)\n",
    "\n",
    "    return images_padded, labels_concat, input_lengths, target_lengths, label_strs    \n",
    "\n",
    "train_loader = DataLoader(\n",
    "    train_set,\n",
    "    batch_size=4,\n",
    "    shuffle=False,\n",
    "    collate_fn=cyrillic_collate_fn\n",
    ")"
   ]
  },
  {
   "cell_type": "code",
   "execution_count": 16,
   "id": "7f33d35c-7a44-43ed-b355-a62561304c71",
   "metadata": {},
   "outputs": [
    {
     "name": "stdout",
     "output_type": "stream",
     "text": [
      "Images: torch.Size([4, 1, 64, 748])\n",
      "Labels (concatenated): torch.Size([42])\n",
      "Input lengths: tensor([187, 187, 187, 187])\n",
      "Target lengths: tensor([ 7, 17, 13,  5])\n",
      "First label (string): молдова\n"
     ]
    }
   ],
   "source": [
    "batch = next(iter(train_loader))\n",
    "images, labels_concat, input_lengths, target_lengths, label_strs = batch\n",
    "\n",
    "print(\"Images:\", images.shape)\n",
    "print(\"Labels (concatenated):\", labels_concat.shape)\n",
    "print(\"Input lengths:\", input_lengths)\n",
    "print(\"Target lengths:\", target_lengths)\n",
    "print(\"First label (string):\", label_strs[0])"
   ]
  },
  {
   "cell_type": "code",
   "execution_count": 18,
   "id": "03a04c74-622c-4a8f-92d1-062d73dfb954",
   "metadata": {},
   "outputs": [],
   "source": [
    "import torch\n",
    "import torch.nn as nn\n",
    "import torch.nn.functional as F\n",
    "\n",
    "class CRNN(nn.Module):\n",
    "    def __init__(self, img_height, num_classes, hidden_size=256, num_rnn_layers=2):\n",
    "        super(CRNN, self).__init__()\n",
    "\n",
    "        # --- 1. CNN feature extractor ---\n",
    "        self.cnn = nn.Sequential(\n",
    "            nn.Conv2d(1, 64, kernel_size=3, stride=1, padding=1),   # (B, 64, H, W)\n",
    "            nn.BatchNorm2d(64),\n",
    "            nn.ReLU(inplace=True),\n",
    "            nn.MaxPool2d(2, 2),  # ↓ H/2, W/2\n",
    "\n",
    "            nn.Conv2d(64, 128, kernel_size=3, stride=1, padding=1), # (B, 128, H/2, W/2)\n",
    "            nn.BatchNorm2d(128),\n",
    "            nn.ReLU(inplace=True),\n",
    "            nn.MaxPool2d(2, 2),  # ↓ H/4, W/4\n",
    "\n",
    "            nn.Conv2d(128, 256, kernel_size=3, stride=1, padding=1),# (B, 256, H/4, W/4)\n",
    "            nn.BatchNorm2d(256),\n",
    "            nn.ReLU(inplace=True),\n",
    "        )\n",
    "\n",
    "        # compute feature size after CNN (height is fixed)\n",
    "        conv_output_height = img_height // 4  # from pooling\n",
    "\n",
    "        # --- 2. Recurrent part (BiLSTM) ---\n",
    "        self.rnn = nn.LSTM(\n",
    "            input_size=256 * conv_output_height,\n",
    "            hidden_size=hidden_size,\n",
    "            num_layers=num_rnn_layers,\n",
    "            bidirectional=True,\n",
    "            batch_first=False  # we’ll permute dims before feeding\n",
    "        )\n",
    "\n",
    "        # --- 3. Linear layer for classification ---\n",
    "        self.fc = nn.Linear(hidden_size * 2, num_classes)  # *2 for bidirectional\n",
    "\n",
    "    def forward(self, x):\n",
    "        # x: (B, 1, H, W)\n",
    "        conv_out = self.cnn(x)  # (B, C, H', W')\n",
    "\n",
    "        B, C, H, W = conv_out.size()\n",
    "        # flatten height dimension into channels for sequence modeling\n",
    "        conv_out = conv_out.permute(3, 0, 1, 2)  # (W', B, C, H')\n",
    "        conv_out = conv_out.reshape(W, B, C * H) # (T=W', B, C*H')\n",
    "\n",
    "        # RNN expects (T, B, input_size)\n",
    "        rnn_out, _ = self.rnn(conv_out)  # (T, B, 2*hidden_size)\n",
    "        output = self.fc(rnn_out)        # (T, B, num_classes)\n",
    "\n",
    "        # For CTC loss, we need log probabilities\n",
    "        log_probs = F.log_softmax(output, dim=2)\n",
    "        return log_probs\n"
   ]
  },
  {
   "cell_type": "code",
   "execution_count": 32,
   "id": "03bb76e5-c660-4707-a139-45323e57cc53",
   "metadata": {},
   "outputs": [
    {
     "name": "stdout",
     "output_type": "stream",
     "text": [
      "Input: torch.Size([4, 1, 64, 748])\n",
      "Output: torch.Size([187, 4, 69])\n"
     ]
    }
   ],
   "source": [
    "# assume: num_classes = len(char2idx)\n",
    "num_classes = len(char2idx)\n",
    "model = CRNN(img_height=64, num_classes=num_classes)\n",
    "\n",
    "# take one batch\n",
    "images, labels_concat, input_lengths, target_lengths, label_strs = next(iter(train_loader))\n",
    "log_probs = model(images)\n",
    "\n",
    "print(\"Input:\", images.shape)\n",
    "print(\"Output:\", log_probs.shape)"
   ]
  },
  {
   "cell_type": "code",
   "execution_count": 33,
   "id": "a2a862df-17d0-4978-b44f-8178ed1fa064",
   "metadata": {},
   "outputs": [
    {
     "name": "stdout",
     "output_type": "stream",
     "text": [
      "Loss: 89.0034\n"
     ]
    }
   ],
   "source": [
    "criterion = nn.CTCLoss(blank=char2idx['<BLANK>'], zero_infinity=True)\n",
    "optimizer = torch.optim.Adam(model.parameters(), lr=1e-3)\n",
    "\n",
    "# (T, B, num_classes)\n",
    "log_probs = model(images)\n",
    "loss = criterion(log_probs, labels_concat, input_lengths, target_lengths)\n",
    "\n",
    "optimizer.zero_grad()\n",
    "loss.backward()\n",
    "optimizer.step()\n",
    "\n",
    "print(f\"Loss: {loss.item():.4f}\")\n"
   ]
  },
  {
   "cell_type": "code",
   "execution_count": 34,
   "id": "22a00486-dbcd-4322-86c5-6aefb29b10a7",
   "metadata": {},
   "outputs": [
    {
     "name": "stdout",
     "output_type": "stream",
     "text": [
      "['молдова', 'продолжила борьбу', 'разработанные', 'плачи']\n",
      "Predicted: [\":'«'«!'«'«'«'«'«'«'«'«'ш2,ш\", \".'к2ш\", \":'н'н'н'йн'н'н'н'н'м'ан'нй'н'н'ь»2,ш\", '.».2ш']\n"
     ]
    }
   ],
   "source": [
    "preds = log_probs.argmax(dim=2)  # shape: (T, B)\n",
    "def greedy_decode(preds, idx2char):\n",
    "    \"\"\"\n",
    "    preds: (T, B) tensor of indices\n",
    "    \"\"\"\n",
    "    preds = preds.transpose(0, 1)  # (B, T)\n",
    "    decoded_texts = []\n",
    "\n",
    "    for pred in preds:\n",
    "        # Collapse repeated characters and remove blanks\n",
    "        prev_idx = None\n",
    "        decoded = []\n",
    "        for idx in pred:\n",
    "            idx = idx.item()\n",
    "            if idx != prev_idx and idx2char[idx] != '<BLANK>':\n",
    "                decoded.append(idx2char[idx])\n",
    "            prev_idx = idx\n",
    "        decoded_texts.append(''.join(decoded))\n",
    "    return decoded_texts\n",
    "\n",
    "\n",
    "print(label_strs)\n",
    "decoded = greedy_decode(preds, idx2char)\n",
    "print(\"Predicted:\", decoded)\n"
   ]
  },
  {
   "cell_type": "code",
   "execution_count": 81,
   "id": "30fb06a3-61da-4779-838c-cf9ddcacf263",
   "metadata": {},
   "outputs": [],
   "source": [
    "# Test dataset\n",
    "test_set = CyrillicHandwritingDataset(\n",
    "    dataframe=test_df,\n",
    "    images_dir=\"./archive/test/\",\n",
    "    image_height=64,\n",
    "    transform=transform_pipeline,\n",
    "    char2idx=char2idx\n",
    ")"
   ]
  },
  {
   "cell_type": "code",
   "execution_count": 74,
   "id": "599b55c3-8555-4846-88cb-5729caa7e804",
   "metadata": {},
   "outputs": [
    {
     "name": "stderr",
     "output_type": "stream",
     "text": [
      "Training: 100%|████████████████████████████████████████████████████████████████████| 9036/9036 [11:19<00:00, 13.31it/s]\n"
     ]
    },
    {
     "name": "stdout",
     "output_type": "stream",
     "text": [
      "Epoch [1/10] - Train Loss: 3.3786\n"
     ]
    },
    {
     "name": "stderr",
     "output_type": "stream",
     "text": [
      "Training: 100%|████████████████████████████████████████████████████████████████████| 9036/9036 [11:17<00:00, 13.33it/s]\n"
     ]
    },
    {
     "name": "stdout",
     "output_type": "stream",
     "text": [
      "Epoch [2/10] - Train Loss: 2.3061\n"
     ]
    },
    {
     "name": "stderr",
     "output_type": "stream",
     "text": [
      "Training: 100%|████████████████████████████████████████████████████████████████████| 9036/9036 [11:07<00:00, 13.54it/s]\n"
     ]
    },
    {
     "name": "stdout",
     "output_type": "stream",
     "text": [
      "Epoch [3/10] - Train Loss: 0.9992\n"
     ]
    },
    {
     "name": "stderr",
     "output_type": "stream",
     "text": [
      "Training: 100%|████████████████████████████████████████████████████████████████████| 9036/9036 [10:55<00:00, 13.78it/s]\n"
     ]
    },
    {
     "name": "stdout",
     "output_type": "stream",
     "text": [
      "Epoch [4/10] - Train Loss: 0.6785\n"
     ]
    },
    {
     "name": "stderr",
     "output_type": "stream",
     "text": [
      "Training: 100%|████████████████████████████████████████████████████████████████████| 9036/9036 [10:48<00:00, 13.92it/s]\n"
     ]
    },
    {
     "name": "stdout",
     "output_type": "stream",
     "text": [
      "Epoch [5/10] - Train Loss: 0.5277\n"
     ]
    },
    {
     "name": "stderr",
     "output_type": "stream",
     "text": [
      "Training: 100%|████████████████████████████████████████████████████████████████████| 9036/9036 [10:42<00:00, 14.07it/s]\n"
     ]
    },
    {
     "name": "stdout",
     "output_type": "stream",
     "text": [
      "Epoch [6/10] - Train Loss: 0.4347\n"
     ]
    },
    {
     "name": "stderr",
     "output_type": "stream",
     "text": [
      "Training: 100%|████████████████████████████████████████████████████████████████████| 9036/9036 [10:36<00:00, 14.20it/s]\n"
     ]
    },
    {
     "name": "stdout",
     "output_type": "stream",
     "text": [
      "Epoch [7/10] - Train Loss: 0.3656\n"
     ]
    },
    {
     "name": "stderr",
     "output_type": "stream",
     "text": [
      "Training: 100%|████████████████████████████████████████████████████████████████████| 9036/9036 [10:40<00:00, 14.12it/s]\n"
     ]
    },
    {
     "name": "stdout",
     "output_type": "stream",
     "text": [
      "Epoch [8/10] - Train Loss: 0.3175\n"
     ]
    },
    {
     "name": "stderr",
     "output_type": "stream",
     "text": [
      "Training: 100%|████████████████████████████████████████████████████████████████████| 9036/9036 [10:42<00:00, 14.06it/s]\n"
     ]
    },
    {
     "name": "stdout",
     "output_type": "stream",
     "text": [
      "Epoch [9/10] - Train Loss: 0.2766\n"
     ]
    },
    {
     "name": "stderr",
     "output_type": "stream",
     "text": [
      "Training: 100%|████████████████████████████████████████████████████████████████████| 9036/9036 [10:35<00:00, 14.21it/s]\n"
     ]
    },
    {
     "name": "stdout",
     "output_type": "stream",
     "text": [
      "Epoch [10/10] - Train Loss: 0.2479\n"
     ]
    },
    {
     "name": "stderr",
     "output_type": "stream",
     "text": [
      "Evaluating: 100%|████████████████████████████████████████████████████████████████████| 193/193 [00:13<00:00, 13.99it/s]"
     ]
    },
    {
     "name": "stdout",
     "output_type": "stream",
     "text": [
      "GT: ибо\n",
      "Pred: ибо\n",
      "----------------------------------------\n",
      "GT: осталось\n",
      "Pred: осталось\n",
      "----------------------------------------\n",
      "GT: поле\n",
      "Pred: поле\n",
      "----------------------------------------\n",
      "GT: оптическое\n",
      "Pred: опичское\n",
      "----------------------------------------\n",
      "GT: 1 класса\n",
      "Pred: 1 класса\n",
      "----------------------------------------\n",
      "GT: г. ульяновск\n",
      "Pred: 2. хлоеновси\n",
      "----------------------------------------\n",
      "GT: на место\n",
      "Pred: на место\n",
      "----------------------------------------\n",
      "GT: паспорт\n",
      "Pred: пспорг\n",
      "----------------------------------------\n",
      "GT: назначение\n",
      "Pred: назначешие\n",
      "----------------------------------------\n",
      "GT: отправление\n",
      "Pred: отправлешие\n",
      "----------------------------------------\n"
     ]
    },
    {
     "name": "stderr",
     "output_type": "stream",
     "text": [
      "\n"
     ]
    }
   ],
   "source": [
    "import torch\n",
    "import torch.nn as nn\n",
    "import torch.optim as optim\n",
    "from torch.utils.data import DataLoader\n",
    "import torch.nn.functional as F\n",
    "from tqdm import tqdm\n",
    "\n",
    "# Assuming you already have:\n",
    "# - CyrillicHandwritingDataset\n",
    "# - cyrillic_collate_fn\n",
    "# - char2idx (dictionary)\n",
    "# - idx2char (reverse mapping)\n",
    "# - train_df, test_df cleaned (NaNs dropped)\n",
    "# - transform_pipeline\n",
    "\n",
    "# ==========================\n",
    "# 1. Dataset & DataLoader\n",
    "# ==========================\n",
    "train_dataset = CyrillicHandwritingDataset(\n",
    "    dataframe=train_df,\n",
    "    images_dir=\"./archive/train/\",\n",
    "    image_height=64,\n",
    "    transform=transform_pipeline,\n",
    "    char2idx=char2idx\n",
    ")\n",
    "\n",
    "test_dataset = CyrillicHandwritingDataset(\n",
    "    dataframe=test_df,\n",
    "    images_dir=\"./archive/test/\",\n",
    "    image_height=64,\n",
    "    transform=transform_pipeline,\n",
    "    char2idx=char2idx\n",
    ")\n",
    "\n",
    "train_loader = DataLoader(train_dataset, batch_size=8, shuffle=True, collate_fn=cyrillic_collate_fn)\n",
    "test_loader = DataLoader(test_dataset, batch_size=8, shuffle=False, collate_fn=cyrillic_collate_fn)\n",
    "\n",
    "# ==========================\n",
    "# 2. Define CRNN Model\n",
    "# ==========================\n",
    "class CRNN(nn.Module):\n",
    "    def __init__(self, num_classes, img_height=64):\n",
    "        super(CRNN, self).__init__()\n",
    "        self.cnn = nn.Sequential(\n",
    "            nn.Conv2d(1, 64, 3, 1, 1),   # [B, 64, 64, W]\n",
    "            nn.ReLU(),\n",
    "            nn.MaxPool2d(2, 2),          # [B, 64, 32, W/2]\n",
    "            nn.Conv2d(64, 128, 3, 1, 1), # [B, 128, 32, W/2]\n",
    "            nn.ReLU(),\n",
    "            nn.MaxPool2d(2, 2),          # [B, 128, 16, W/4]\n",
    "        )\n",
    "\n",
    "        self.rnn = nn.LSTM(\n",
    "            input_size=128 * 16,  # flatten height dimension\n",
    "            hidden_size=256,\n",
    "            num_layers=2,\n",
    "            bidirectional=True,\n",
    "            batch_first=True\n",
    "        )\n",
    "\n",
    "        self.fc = nn.Linear(512, num_classes)\n",
    "\n",
    "    def forward(self, x):\n",
    "        x = self.cnn(x)\n",
    "        B, C, H, W = x.size()\n",
    "        x = x.permute(0, 3, 1, 2)  # [B, W, C, H]\n",
    "        x = x.reshape(B, W, C * H) # flatten H\n",
    "        x, _ = self.rnn(x)\n",
    "        x = self.fc(x)\n",
    "        x = x.permute(1, 0, 2)     # [T, B, num_classes] for CTC\n",
    "        return x\n",
    "\n",
    "# ==========================\n",
    "# 3. Model, Loss, Optimizer\n",
    "# ==========================\n",
    "device = torch.device(\"cuda\" if torch.cuda.is_available() else \"cpu\")\n",
    "\n",
    "num_classes = len(char2idx)\n",
    "model = CRNN(num_classes=num_classes).to(device)\n",
    "\n",
    "criterion = nn.CTCLoss(blank=char2idx['<BLANK>'], zero_infinity=True)\n",
    "optimizer = optim.Adam(model.parameters(), lr=1e-3)\n",
    "\n",
    "# ==========================\n",
    "# 4. Training Loop\n",
    "# ==========================\n",
    "def train_one_epoch(model, loader, criterion, optimizer, device):\n",
    "    model.train()\n",
    "    running_loss = 0.0\n",
    "    for images, labels, input_lengths, target_lengths, _ in tqdm(loader, desc=\"Training\"):\n",
    "        images, labels = images.to(device), labels.to(device)\n",
    "\n",
    "        optimizer.zero_grad()\n",
    "        outputs = model(images)  # [T, B, num_classes]\n",
    "        loss = criterion(outputs.log_softmax(2), labels, input_lengths, target_lengths)\n",
    "        loss.backward()\n",
    "        optimizer.step()\n",
    "\n",
    "        running_loss += loss.item()\n",
    "    return running_loss / len(loader)\n",
    "\n",
    "# ==========================\n",
    "# 5. Greedy Decoding for CTC\n",
    "# ==========================\n",
    "def greedy_decode(output, idx2char):\n",
    "    out = output.argmax(dim=2).permute(1, 0)  # [B, T]\n",
    "    decoded_batch = []\n",
    "    for seq in out:\n",
    "        decoded = []\n",
    "        prev = None\n",
    "        for idx in seq:\n",
    "            char = idx2char[idx.item()]\n",
    "            if char != '<BLANK>' and char != prev:\n",
    "                decoded.append(char)\n",
    "            prev = char\n",
    "        decoded_batch.append(''.join(decoded))\n",
    "    return decoded_batch\n",
    "\n",
    "# ==========================\n",
    "# 6. Evaluation\n",
    "# ==========================\n",
    "def evaluate(model, loader, idx2char, device):\n",
    "    model.eval()\n",
    "    predictions, ground_truths = [], []\n",
    "    with torch.no_grad():\n",
    "        for images, labels, input_lengths, target_lengths, label_strs in tqdm(loader, desc=\"Evaluating\"):\n",
    "            images = images.to(device)\n",
    "            outputs = model(images)\n",
    "            preds = greedy_decode(outputs, idx2char)\n",
    "            predictions.extend(preds)\n",
    "            ground_truths.extend(label_strs)\n",
    "    return predictions, ground_truths\n",
    "\n",
    "# ==========================\n",
    "# 7. Train & Test\n",
    "# ==========================\n",
    "EPOCHS = 10\n",
    "for epoch in range(EPOCHS):\n",
    "    loss = train_one_epoch(model, train_loader, criterion, optimizer, device)\n",
    "    print(f\"Epoch [{epoch+1}/{EPOCHS}] - Train Loss: {loss:.4f}\")\n",
    "\n",
    "# Evaluate after training\n",
    "preds, gts = evaluate(model, test_loader, idx2char, device)\n",
    "\n",
    "# ==========================\n",
    "# 8. Inspect Predictions\n",
    "# ==========================\n",
    "for i in range(10):\n",
    "    print(f\"GT: {gts[i]}\")\n",
    "    print(f\"Pred: {preds[i]}\")\n",
    "    print(\"-\" * 40)\n"
   ]
  },
  {
   "cell_type": "markdown",
   "id": "0278f5f6-db11-44b1-86c0-34c1a6081d85",
   "metadata": {},
   "source": [
    "Connectionist Temporal Classification (CTC)\n",
    "is a specialized loss function used to train the network for sequence recognition tasks where the alignment between the input (image) and the output (text) is unknown or variable, like handwriting or speech recognition."
   ]
  },
  {
   "cell_type": "code",
   "execution_count": 76,
   "id": "8db110e2-35d2-4367-bf47-6b5297e0b698",
   "metadata": {},
   "outputs": [],
   "source": [
    "torch.save(model.state_dict(), \"crnn_cyrillic.pth\")"
   ]
  },
  {
   "cell_type": "code",
   "execution_count": 80,
   "id": "59b9c438-501f-478c-a9e4-2ea297aa9993",
   "metadata": {},
   "outputs": [
    {
     "name": "stdout",
     "output_type": "stream",
     "text": [
      "Predicted: ибо\n"
     ]
    },
    {
     "data": {
      "image/png": "[encoded data removed]",
      "text/plain": [
       "<Figure size 640x480 with 1 Axes>"
      ]
     },
     "metadata": {},
     "output_type": "display_data"
    }
   ],
   "source": [
    "checkpoint_model = torch.load(\"crnn_cyrillic.pth\")\n",
    "# checkpoint_model.eval()\n",
    "\n",
    "sample_image, _, _ = test_dataset[0]\n",
    "sample_image = sample_image.unsqueeze(0).to(device)\n",
    "\n",
    "# Forward pass\n",
    "with torch.no_grad():\n",
    "    output = model(sample_image)\n",
    "    pred_text = greedy_decode(output, idx2char)[0]\n",
    "\n",
    "depict(*test_dataset[0])\n",
    "print(f\"Predicted: {pred_text}\")"
   ]
  },
  {
   "cell_type": "markdown",
   "id": "6e764fab-e304-457d-b70d-d274dc96daf9",
   "metadata": {},
   "source": [
    "### Cleaner version of the existing code"
   ]
  },
  {
   "cell_type": "code",
   "execution_count": 84,
   "id": "5b027092-5ff1-4cf8-a163-15cf665c8dbf",
   "metadata": {},
   "outputs": [],
   "source": [
    "import torch\n",
    "import torch.nn as nn\n",
    "import torch.optim as optim\n",
    "from torch.utils.data import DataLoader\n",
    "import torch.nn.functional as F\n",
    "from tqdm import tqdm\n",
    "\n",
    "\n",
    "# ==========================\n",
    "# Dataset & DataLoader definition\n",
    "# ==========================\n",
    "\n",
    "train_dataset = CyrillicHandwritingDataset(\n",
    "    dataframe=train_df,\n",
    "    images_dir=\"./archive/train/\",\n",
    "    image_height=64,\n",
    "    transform=transform_pipeline,\n",
    "    char2idx=char2idx\n",
    ")\n",
    "\n",
    "test_dataset = CyrillicHandwritingDataset(\n",
    "    dataframe=test_df,\n",
    "    images_dir=\"./archive/test/\",\n",
    "    image_height=64,\n",
    "    transform=transform_pipeline,\n",
    "    char2idx=char2idx\n",
    ")\n",
    "\n",
    "train_loader = DataLoader(train_dataset, batch_size=8, shuffle=True, collate_fn=cyrillic_collate_fn)\n",
    "test_loader = DataLoader(test_dataset, batch_size=8, shuffle=False, collate_fn=cyrillic_collate_fn)"
   ]
  },
  {
   "cell_type": "code",
   "execution_count": 97,
   "id": "d3d1f79a-d620-462d-96f1-39604c9e2862",
   "metadata": {},
   "outputs": [],
   "source": [
    "# ==========================\n",
    "# CRNN (CNN + RNN) Model Class\n",
    "# ==========================\n",
    "\n",
    "\n",
    "class CRNN(nn.Module):\n",
    "    def __init__(self, num_classes, img_height=64):\n",
    "        super(CRNN, self).__init__()\n",
    "        self.cnn = nn.Sequential(\n",
    "            nn.Conv2d(1, 64, 3, 1, 1),   # [B, 64, 64, W]\n",
    "            nn.ReLU(),\n",
    "            nn.MaxPool2d(2, 2),          # [B, 64, 32, W/2]\n",
    "            nn.Conv2d(64, 128, 3, 1, 1), # [B, 128, 32, W/2]\n",
    "            nn.ReLU(),\n",
    "            nn.MaxPool2d(2, 2),          # [B, 128, 16, W/4]\n",
    "        )\n",
    "\n",
    "        self.rnn = nn.LSTM(\n",
    "            input_size=128 * 16,  # flatten height dimension\n",
    "            hidden_size=256, # 256 -> 512\n",
    "            num_layers=2,\n",
    "            bidirectional=True,\n",
    "            batch_first=True\n",
    "        )\n",
    "\n",
    "        self.fc = nn.Linear(512, num_classes)\n",
    "\n",
    "    def forward(self, x):\n",
    "        x = self.cnn(x)\n",
    "        B, C, H, W = x.size()\n",
    "        x = x.permute(0, 3, 1, 2)  # [B, W, C, H]\n",
    "        x = x.reshape(B, W, C * H) # flatten H\n",
    "        x, _ = self.rnn(x)\n",
    "        x = self.fc(x)\n",
    "        x = x.permute(1, 0, 2)     # [T, B, num_classes] for CTC\n",
    "        return x\n"
   ]
  },
  {
   "cell_type": "code",
   "execution_count": 98,
   "id": "7d9882d3-9ead-4de0-89df-0a5a7f1048ea",
   "metadata": {},
   "outputs": [],
   "source": [
    "# ==========================\n",
    "# Model, Loss, Optimizer\n",
    "# ==========================\n",
    "device = torch.device(\"cuda\" if torch.cuda.is_available() else \"cpu\")\n",
    "\n",
    "num_classes = len(char2idx)\n",
    "model = CRNN(num_classes=num_classes).to(device)\n",
    "\n",
    "criterion = nn.CTCLoss(blank=char2idx['<BLANK>'], zero_infinity=True)\n",
    "optimizer = optim.Adam(model.parameters(), lr=1e-3)\n",
    "\n",
    "# ==========================\n",
    "# Training Loop\n",
    "# ==========================\n",
    "def train_one_epoch(model, loader, criterion, optimizer, device):\n",
    "    model.train()\n",
    "    running_loss = 0.0\n",
    "    for images, labels, input_lengths, target_lengths, _ in tqdm(loader, desc=\"Training\"):\n",
    "        images, labels = images.to(device), labels.to(device)\n",
    "\n",
    "        optimizer.zero_grad()\n",
    "        outputs = model(images)  # [T, B, num_classes]\n",
    "        loss = criterion(outputs.log_softmax(2), labels, input_lengths, target_lengths)\n",
    "        loss.backward()\n",
    "        optimizer.step()\n",
    "\n",
    "        running_loss += loss.item()\n",
    "    return running_loss / len(loader)\n",
    "\n",
    "# ==========================\n",
    "# Evaluation\n",
    "# ==========================\n",
    "def evaluate(model, loader, idx2char, device):\n",
    "    model.eval()\n",
    "    predictions, ground_truths = [], []\n",
    "    with torch.no_grad():\n",
    "        for images, labels, input_lengths, target_lengths, label_strs in tqdm(loader, desc=\"Evaluating\"):\n",
    "            images = images.to(device)\n",
    "            outputs = model(images)\n",
    "            preds = greedy_decode(outputs, idx2char)\n",
    "            predictions.extend(preds)\n",
    "            ground_truths.extend(label_strs)\n",
    "    return predictions, ground_truths"
   ]
  },
  {
   "cell_type": "markdown",
   "id": "35328e32-c79f-40fb-9690-77eb55e2a8e3",
   "metadata": {},
   "source": [
    "When using CTC (Connectionist Temporal Classification), the model doesn't predict a label for each frame directly, instead it outputs a sequence of probabilities over the whole vocabulary for each time step in the feature map.\n",
    "This output needs to be decoded into readable text.\n",
    "\n",
    "Greedy decoding method means:\n",
    "At each time step, simply pick the character with the highest probability\n",
    "It's greedy because it doesn't look ahead or consider alternate sequences (unlike **beam search decoding**)\n",
    "\n",
    "notes:\n",
    "different searching techniques: greedy, exhaustive, beam (best pay-off)"
   ]
  },
  {
   "cell_type": "code",
   "execution_count": 99,
   "id": "524fecb7-fe18-4fd4-b497-cadae259d0cf",
   "metadata": {},
   "outputs": [],
   "source": [
    "# ==========================\n",
    "# Greedy Decoding for CTC\n",
    "# ==========================\n",
    "def greedy_decode(output, idx2char):\n",
    "    # output of a model: (T, B, C) - time_steps, batch_size, num_classes\n",
    "    # get the index of the most probably class (hence dim=2, C)\n",
    "    out = output.argmax(dim=2).permute(1, 0)  # [B, T]\n",
    "    decoded_batch = []\n",
    "    for seq in out:\n",
    "        decoded = []\n",
    "        prev = None\n",
    "        for idx in seq:\n",
    "            char = idx2char[idx.item()]\n",
    "            if char != '<BLANK>' and char != prev:\n",
    "                decoded.append(char)\n",
    "            prev = char\n",
    "        decoded_batch.append(''.join(decoded))\n",
    "    return decoded_batch"
   ]
  },
  {
   "cell_type": "code",
   "execution_count": 100,
   "id": "d568265c-f4cc-46b0-b5f1-a1ee61c8643c",
   "metadata": {},
   "outputs": [
    {
     "name": "stderr",
     "output_type": "stream",
     "text": [
      "Training: 100%|████████████████████████████████████████████████████████████████████| 4518/4518 [09:27<00:00,  7.95it/s]\n"
     ]
    },
    {
     "name": "stdout",
     "output_type": "stream",
     "text": [
      "Epoch [1/50] - Train Loss: 3.4878\n"
     ]
    },
    {
     "name": "stderr",
     "output_type": "stream",
     "text": [
      "Training: 100%|████████████████████████████████████████████████████████████████████| 4518/4518 [09:20<00:00,  8.06it/s]\n"
     ]
    },
    {
     "name": "stdout",
     "output_type": "stream",
     "text": [
      "Epoch [2/50] - Train Loss: 3.0411\n"
     ]
    },
    {
     "name": "stderr",
     "output_type": "stream",
     "text": [
      "Training: 100%|████████████████████████████████████████████████████████████████████| 4518/4518 [09:17<00:00,  8.11it/s]\n"
     ]
    },
    {
     "name": "stdout",
     "output_type": "stream",
     "text": [
      "Epoch [3/50] - Train Loss: 2.4642\n"
     ]
    },
    {
     "name": "stderr",
     "output_type": "stream",
     "text": [
      "Training: 100%|████████████████████████████████████████████████████████████████████| 4518/4518 [09:18<00:00,  8.09it/s]\n"
     ]
    },
    {
     "name": "stdout",
     "output_type": "stream",
     "text": [
      "Epoch [4/50] - Train Loss: 1.0219\n"
     ]
    },
    {
     "name": "stderr",
     "output_type": "stream",
     "text": [
      "Training: 100%|████████████████████████████████████████████████████████████████████| 4518/4518 [09:16<00:00,  8.12it/s]\n"
     ]
    },
    {
     "name": "stdout",
     "output_type": "stream",
     "text": [
      "Epoch [5/50] - Train Loss: 0.6306\n"
     ]
    },
    {
     "name": "stderr",
     "output_type": "stream",
     "text": [
      "Training: 100%|████████████████████████████████████████████████████████████████████| 4518/4518 [09:15<00:00,  8.13it/s]\n"
     ]
    },
    {
     "name": "stdout",
     "output_type": "stream",
     "text": [
      "Epoch [6/50] - Train Loss: 0.4695\n"
     ]
    },
    {
     "name": "stderr",
     "output_type": "stream",
     "text": [
      "Training: 100%|████████████████████████████████████████████████████████████████████| 4518/4518 [09:16<00:00,  8.12it/s]\n"
     ]
    },
    {
     "name": "stdout",
     "output_type": "stream",
     "text": [
      "Epoch [7/50] - Train Loss: 0.3656\n"
     ]
    },
    {
     "name": "stderr",
     "output_type": "stream",
     "text": [
      "Training: 100%|████████████████████████████████████████████████████████████████████| 4518/4518 [09:15<00:00,  8.14it/s]\n"
     ]
    },
    {
     "name": "stdout",
     "output_type": "stream",
     "text": [
      "Epoch [8/50] - Train Loss: 0.2925\n"
     ]
    },
    {
     "name": "stderr",
     "output_type": "stream",
     "text": [
      "Training: 100%|████████████████████████████████████████████████████████████████████| 4518/4518 [09:18<00:00,  8.08it/s]\n"
     ]
    },
    {
     "name": "stdout",
     "output_type": "stream",
     "text": [
      "Epoch [9/50] - Train Loss: 0.2382\n"
     ]
    },
    {
     "name": "stderr",
     "output_type": "stream",
     "text": [
      "Training: 100%|████████████████████████████████████████████████████████████████████| 4518/4518 [09:16<00:00,  8.12it/s]\n"
     ]
    },
    {
     "name": "stdout",
     "output_type": "stream",
     "text": [
      "Epoch [10/50] - Train Loss: 0.1976\n"
     ]
    },
    {
     "name": "stderr",
     "output_type": "stream",
     "text": [
      "Training: 100%|████████████████████████████████████████████████████████████████████| 4518/4518 [09:16<00:00,  8.12it/s]\n"
     ]
    },
    {
     "name": "stdout",
     "output_type": "stream",
     "text": [
      "Epoch [11/50] - Train Loss: 0.1681\n"
     ]
    },
    {
     "name": "stderr",
     "output_type": "stream",
     "text": [
      "Training: 100%|████████████████████████████████████████████████████████████████████| 4518/4518 [09:18<00:00,  8.09it/s]\n"
     ]
    },
    {
     "name": "stdout",
     "output_type": "stream",
     "text": [
      "Epoch [12/50] - Train Loss: 0.1454\n"
     ]
    },
    {
     "name": "stderr",
     "output_type": "stream",
     "text": [
      "Training: 100%|████████████████████████████████████████████████████████████████████| 4518/4518 [09:16<00:00,  8.11it/s]\n"
     ]
    },
    {
     "name": "stdout",
     "output_type": "stream",
     "text": [
      "Epoch [13/50] - Train Loss: 0.1258\n"
     ]
    },
    {
     "name": "stderr",
     "output_type": "stream",
     "text": [
      "Training: 100%|████████████████████████████████████████████████████████████████████| 4518/4518 [09:18<00:00,  8.08it/s]\n"
     ]
    },
    {
     "name": "stdout",
     "output_type": "stream",
     "text": [
      "Epoch [14/50] - Train Loss: 0.1144\n"
     ]
    },
    {
     "name": "stderr",
     "output_type": "stream",
     "text": [
      "Training: 100%|████████████████████████████████████████████████████████████████████| 4518/4518 [09:17<00:00,  8.11it/s]\n"
     ]
    },
    {
     "name": "stdout",
     "output_type": "stream",
     "text": [
      "Epoch [15/50] - Train Loss: 0.1061\n"
     ]
    },
    {
     "name": "stderr",
     "output_type": "stream",
     "text": [
      "Training: 100%|████████████████████████████████████████████████████████████████████| 4518/4518 [09:17<00:00,  8.11it/s]\n"
     ]
    },
    {
     "name": "stdout",
     "output_type": "stream",
     "text": [
      "Epoch [16/50] - Train Loss: 0.0939\n"
     ]
    },
    {
     "name": "stderr",
     "output_type": "stream",
     "text": [
      "Training: 100%|████████████████████████████████████████████████████████████████████| 4518/4518 [09:17<00:00,  8.10it/s]\n"
     ]
    },
    {
     "name": "stdout",
     "output_type": "stream",
     "text": [
      "Epoch [17/50] - Train Loss: 0.0904\n"
     ]
    },
    {
     "name": "stderr",
     "output_type": "stream",
     "text": [
      "Training: 100%|████████████████████████████████████████████████████████████████████| 4518/4518 [09:16<00:00,  8.12it/s]\n"
     ]
    },
    {
     "name": "stdout",
     "output_type": "stream",
     "text": [
      "Epoch [18/50] - Train Loss: 0.0852\n"
     ]
    },
    {
     "name": "stderr",
     "output_type": "stream",
     "text": [
      "Training: 100%|████████████████████████████████████████████████████████████████████| 4518/4518 [09:17<00:00,  8.10it/s]\n"
     ]
    },
    {
     "name": "stdout",
     "output_type": "stream",
     "text": [
      "Epoch [19/50] - Train Loss: 0.0780\n"
     ]
    },
    {
     "name": "stderr",
     "output_type": "stream",
     "text": [
      "Training: 100%|████████████████████████████████████████████████████████████████████| 4518/4518 [09:16<00:00,  8.12it/s]\n"
     ]
    },
    {
     "name": "stdout",
     "output_type": "stream",
     "text": [
      "Epoch [20/50] - Train Loss: 0.0761\n"
     ]
    },
    {
     "name": "stderr",
     "output_type": "stream",
     "text": [
      "Training: 100%|████████████████████████████████████████████████████████████████████| 4518/4518 [09:17<00:00,  8.11it/s]\n"
     ]
    },
    {
     "name": "stdout",
     "output_type": "stream",
     "text": [
      "Epoch [21/50] - Train Loss: 0.0732\n"
     ]
    },
    {
     "name": "stderr",
     "output_type": "stream",
     "text": [
      "Training: 100%|████████████████████████████████████████████████████████████████████| 4518/4518 [09:17<00:00,  8.10it/s]\n"
     ]
    },
    {
     "name": "stdout",
     "output_type": "stream",
     "text": [
      "Epoch [22/50] - Train Loss: 0.0715\n"
     ]
    },
    {
     "name": "stderr",
     "output_type": "stream",
     "text": [
      "Training: 100%|████████████████████████████████████████████████████████████████████| 4518/4518 [09:16<00:00,  8.12it/s]\n"
     ]
    },
    {
     "name": "stdout",
     "output_type": "stream",
     "text": [
      "Epoch [23/50] - Train Loss: 0.0678\n"
     ]
    },
    {
     "name": "stderr",
     "output_type": "stream",
     "text": [
      "Training: 100%|████████████████████████████████████████████████████████████████████| 4518/4518 [09:18<00:00,  8.08it/s]\n"
     ]
    },
    {
     "name": "stdout",
     "output_type": "stream",
     "text": [
      "Epoch [24/50] - Train Loss: 0.0662\n"
     ]
    },
    {
     "name": "stderr",
     "output_type": "stream",
     "text": [
      "Training: 100%|████████████████████████████████████████████████████████████████████| 4518/4518 [09:17<00:00,  8.11it/s]\n"
     ]
    },
    {
     "name": "stdout",
     "output_type": "stream",
     "text": [
      "Epoch [25/50] - Train Loss: 0.0630\n"
     ]
    },
    {
     "name": "stderr",
     "output_type": "stream",
     "text": [
      "Training: 100%|████████████████████████████████████████████████████████████████████| 4518/4518 [09:17<00:00,  8.11it/s]\n"
     ]
    },
    {
     "name": "stdout",
     "output_type": "stream",
     "text": [
      "Epoch [26/50] - Train Loss: 0.0638\n"
     ]
    },
    {
     "name": "stderr",
     "output_type": "stream",
     "text": [
      "Training: 100%|████████████████████████████████████████████████████████████████████| 4518/4518 [09:17<00:00,  8.10it/s]\n"
     ]
    },
    {
     "name": "stdout",
     "output_type": "stream",
     "text": [
      "Epoch [27/50] - Train Loss: 0.0600\n"
     ]
    },
    {
     "name": "stderr",
     "output_type": "stream",
     "text": [
      "Training: 100%|████████████████████████████████████████████████████████████████████| 4518/4518 [09:16<00:00,  8.12it/s]\n"
     ]
    },
    {
     "name": "stdout",
     "output_type": "stream",
     "text": [
      "Epoch [28/50] - Train Loss: 0.0601\n"
     ]
    },
    {
     "name": "stderr",
     "output_type": "stream",
     "text": [
      "Training: 100%|████████████████████████████████████████████████████████████████████| 4518/4518 [09:18<00:00,  8.09it/s]\n"
     ]
    },
    {
     "name": "stdout",
     "output_type": "stream",
     "text": [
      "Epoch [29/50] - Train Loss: 0.0577\n"
     ]
    },
    {
     "name": "stderr",
     "output_type": "stream",
     "text": [
      "Training: 100%|████████████████████████████████████████████████████████████████████| 4518/4518 [09:17<00:00,  8.11it/s]\n"
     ]
    },
    {
     "name": "stdout",
     "output_type": "stream",
     "text": [
      "Epoch [30/50] - Train Loss: 0.0565\n"
     ]
    },
    {
     "name": "stderr",
     "output_type": "stream",
     "text": [
      "Training: 100%|████████████████████████████████████████████████████████████████████| 4518/4518 [09:17<00:00,  8.11it/s]\n"
     ]
    },
    {
     "name": "stdout",
     "output_type": "stream",
     "text": [
      "Epoch [31/50] - Train Loss: 0.0558\n"
     ]
    },
    {
     "name": "stderr",
     "output_type": "stream",
     "text": [
      "Training: 100%|████████████████████████████████████████████████████████████████████| 4518/4518 [09:17<00:00,  8.10it/s]\n"
     ]
    },
    {
     "name": "stdout",
     "output_type": "stream",
     "text": [
      "Epoch [32/50] - Train Loss: 0.0549\n"
     ]
    },
    {
     "name": "stderr",
     "output_type": "stream",
     "text": [
      "Training: 100%|████████████████████████████████████████████████████████████████████| 4518/4518 [09:15<00:00,  8.13it/s]\n"
     ]
    },
    {
     "name": "stdout",
     "output_type": "stream",
     "text": [
      "Epoch [33/50] - Train Loss: 0.0565\n"
     ]
    },
    {
     "name": "stderr",
     "output_type": "stream",
     "text": [
      "Training: 100%|████████████████████████████████████████████████████████████████████| 4518/4518 [09:22<00:00,  8.03it/s]\n"
     ]
    },
    {
     "name": "stdout",
     "output_type": "stream",
     "text": [
      "Epoch [34/50] - Train Loss: 0.0528\n"
     ]
    },
    {
     "name": "stderr",
     "output_type": "stream",
     "text": [
      "Training: 100%|████████████████████████████████████████████████████████████████████| 4518/4518 [09:20<00:00,  8.06it/s]\n"
     ]
    },
    {
     "name": "stdout",
     "output_type": "stream",
     "text": [
      "Epoch [35/50] - Train Loss: 0.0522\n"
     ]
    },
    {
     "name": "stderr",
     "output_type": "stream",
     "text": [
      "Training: 100%|████████████████████████████████████████████████████████████████████| 4518/4518 [09:21<00:00,  8.05it/s]\n"
     ]
    },
    {
     "name": "stdout",
     "output_type": "stream",
     "text": [
      "Epoch [36/50] - Train Loss: 0.0515\n"
     ]
    },
    {
     "name": "stderr",
     "output_type": "stream",
     "text": [
      "Training: 100%|████████████████████████████████████████████████████████████████████| 4518/4518 [09:20<00:00,  8.07it/s]\n"
     ]
    },
    {
     "name": "stdout",
     "output_type": "stream",
     "text": [
      "Epoch [37/50] - Train Loss: 0.0514\n"
     ]
    },
    {
     "name": "stderr",
     "output_type": "stream",
     "text": [
      "Training: 100%|████████████████████████████████████████████████████████████████████| 4518/4518 [09:30<00:00,  7.91it/s]\n"
     ]
    },
    {
     "name": "stdout",
     "output_type": "stream",
     "text": [
      "Epoch [38/50] - Train Loss: 0.0508\n"
     ]
    },
    {
     "name": "stderr",
     "output_type": "stream",
     "text": [
      "Training: 100%|████████████████████████████████████████████████████████████████████| 4518/4518 [09:31<00:00,  7.91it/s]\n"
     ]
    },
    {
     "name": "stdout",
     "output_type": "stream",
     "text": [
      "Epoch [39/50] - Train Loss: 0.0485\n"
     ]
    },
    {
     "name": "stderr",
     "output_type": "stream",
     "text": [
      "Training: 100%|████████████████████████████████████████████████████████████████████| 4518/4518 [09:26<00:00,  7.97it/s]\n"
     ]
    },
    {
     "name": "stdout",
     "output_type": "stream",
     "text": [
      "Epoch [40/50] - Train Loss: 0.0496\n"
     ]
    },
    {
     "name": "stderr",
     "output_type": "stream",
     "text": [
      "Training: 100%|████████████████████████████████████████████████████████████████████| 4518/4518 [09:23<00:00,  8.02it/s]\n"
     ]
    },
    {
     "name": "stdout",
     "output_type": "stream",
     "text": [
      "Epoch [41/50] - Train Loss: 0.0503\n"
     ]
    },
    {
     "name": "stderr",
     "output_type": "stream",
     "text": [
      "Training: 100%|████████████████████████████████████████████████████████████████████| 4518/4518 [09:24<00:00,  8.00it/s]\n"
     ]
    },
    {
     "name": "stdout",
     "output_type": "stream",
     "text": [
      "Epoch [42/50] - Train Loss: 0.0477\n"
     ]
    },
    {
     "name": "stderr",
     "output_type": "stream",
     "text": [
      "Training: 100%|████████████████████████████████████████████████████████████████████| 4518/4518 [09:24<00:00,  8.01it/s]\n"
     ]
    },
    {
     "name": "stdout",
     "output_type": "stream",
     "text": [
      "Epoch [43/50] - Train Loss: 0.0475\n"
     ]
    },
    {
     "name": "stderr",
     "output_type": "stream",
     "text": [
      "Training: 100%|████████████████████████████████████████████████████████████████████| 4518/4518 [09:20<00:00,  8.05it/s]\n"
     ]
    },
    {
     "name": "stdout",
     "output_type": "stream",
     "text": [
      "Epoch [44/50] - Train Loss: 0.0467\n"
     ]
    },
    {
     "name": "stderr",
     "output_type": "stream",
     "text": [
      "Training: 100%|████████████████████████████████████████████████████████████████████| 4518/4518 [09:28<00:00,  7.94it/s]\n"
     ]
    },
    {
     "name": "stdout",
     "output_type": "stream",
     "text": [
      "Epoch [45/50] - Train Loss: 0.0465\n"
     ]
    },
    {
     "name": "stderr",
     "output_type": "stream",
     "text": [
      "Training: 100%|████████████████████████████████████████████████████████████████████| 4518/4518 [09:27<00:00,  7.96it/s]\n"
     ]
    },
    {
     "name": "stdout",
     "output_type": "stream",
     "text": [
      "Epoch [46/50] - Train Loss: 0.0449\n"
     ]
    },
    {
     "name": "stderr",
     "output_type": "stream",
     "text": [
      "Training: 100%|████████████████████████████████████████████████████████████████████| 4518/4518 [09:27<00:00,  7.96it/s]\n"
     ]
    },
    {
     "name": "stdout",
     "output_type": "stream",
     "text": [
      "Epoch [47/50] - Train Loss: 0.0464\n"
     ]
    },
    {
     "name": "stderr",
     "output_type": "stream",
     "text": [
      "Training: 100%|████████████████████████████████████████████████████████████████████| 4518/4518 [09:28<00:00,  7.94it/s]\n"
     ]
    },
    {
     "name": "stdout",
     "output_type": "stream",
     "text": [
      "Epoch [48/50] - Train Loss: 0.0447\n"
     ]
    },
    {
     "name": "stderr",
     "output_type": "stream",
     "text": [
      "Training: 100%|████████████████████████████████████████████████████████████████████| 4518/4518 [09:27<00:00,  7.96it/s]\n"
     ]
    },
    {
     "name": "stdout",
     "output_type": "stream",
     "text": [
      "Epoch [49/50] - Train Loss: 0.0466\n"
     ]
    },
    {
     "name": "stderr",
     "output_type": "stream",
     "text": [
      "Training: 100%|████████████████████████████████████████████████████████████████████| 4518/4518 [09:26<00:00,  7.98it/s]\n"
     ]
    },
    {
     "name": "stdout",
     "output_type": "stream",
     "text": [
      "Epoch [50/50] - Train Loss: 0.0438\n"
     ]
    },
    {
     "name": "stderr",
     "output_type": "stream",
     "text": [
      "Evaluating: 100%|██████████████████████████████████████████████████████████████████████| 97/97 [00:17<00:00,  5.55it/s]"
     ]
    },
    {
     "name": "stdout",
     "output_type": "stream",
     "text": [
      "GT: ибо\n",
      "Pred: ибо\n",
      "----------------------------------------\n",
      "GT: осталось\n",
      "Pred: осталось\n",
      "----------------------------------------\n",
      "GT: поле\n",
      "Pred: поле\n",
      "----------------------------------------\n",
      "GT: оптическое\n",
      "Pred: оптическое\n",
      "----------------------------------------\n",
      "GT: 1 класса\n",
      "Pred: класса\n",
      "----------------------------------------\n",
      "GT: г. ульяновск\n",
      "Pred: 2. кльяновс\n",
      "----------------------------------------\n",
      "GT: на место\n",
      "Pred: на место\n",
      "----------------------------------------\n",
      "GT: паспорт\n",
      "Pred: песпор\n",
      "----------------------------------------\n",
      "GT: назначение\n",
      "Pred: назнячемии\n",
      "----------------------------------------\n",
      "GT: отправление\n",
      "Pred: отпровиешио\n",
      "----------------------------------------\n"
     ]
    },
    {
     "name": "stderr",
     "output_type": "stream",
     "text": [
      "\n"
     ]
    }
   ],
   "source": [
    "# ==========================\n",
    "# Train & Test\n",
    "# ==========================\n",
    "train_loader = DataLoader(train_dataset, batch_size=16, shuffle=True, collate_fn=cyrillic_collate_fn)\n",
    "test_loader = DataLoader(test_dataset, batch_size=16, shuffle=False, collate_fn=cyrillic_collate_fn)\n",
    "EPOCHS = 50\n",
    "for epoch in range(EPOCHS):\n",
    "    loss = train_one_epoch(model, train_loader, criterion, optimizer, device)\n",
    "    print(f\"Epoch [{epoch+1}/{EPOCHS}] - Train Loss: {loss:.4f}\")\n",
    "\n",
    "# Evaluate after training\n",
    "preds, gts = evaluate(model, test_loader, idx2char, device)\n",
    "\n",
    "# ==========================\n",
    "# Inspect Predictions\n",
    "# ==========================\n",
    "for i in range(10):\n",
    "    print(f\"GT: {gts[i]}\")\n",
    "    print(f\"Pred: {preds[i]}\")\n",
    "    print(\"-\" * 40)\n"
   ]
  },
  {
   "cell_type": "code",
   "execution_count": 101,
   "id": "7f18652a-5ff8-4625-a0d6-abeb368210db",
   "metadata": {},
   "outputs": [],
   "source": [
    "torch.save(model.state_dict(), \"crnn_cyrillic_50.pth\")"
   ]
  },
  {
   "cell_type": "code",
   "execution_count": null,
   "id": "f395ce68-6fa1-4df0-8d84-fd04c109be54",
   "metadata": {},
   "outputs": [],
   "source": []
  },
  {
   "cell_type": "code",
   "execution_count": null,
   "id": "878b6372-e121-4377-9550-df43c753a597",
   "metadata": {},
   "outputs": [],
   "source": [
    "import esditdistance\n",
    "\n",
    "\n",
    "# Character Error Rate\n",
    "def char_err_rate(pred, target):\n",
    "    return editdistance.eval(pred, target) / max(len(target), 1)\n",
    "\n"
   ]
  },
  {
   "cell_type": "code",
   "execution_count": null,
   "id": "fd5b340c-5927-4f6a-be85-788c69583cf0",
   "metadata": {},
   "outputs": [],
   "source": []
  },
  {
   "cell_type": "code",
   "execution_count": null,
   "id": "6c537fe5-7d4c-4ae6-924b-fa1c2c7e26ef",
   "metadata": {},
   "outputs": [],
   "source": []
  },
  {
   "cell_type": "code",
   "execution_count": null,
   "id": "31551aa9-abdb-42ba-b00d-6a53133f49c5",
   "metadata": {},
   "outputs": [],
   "source": []
  },
  {
   "cell_type": "code",
   "execution_count": null,
   "id": "6b90dc93-eb2c-47db-93f8-e7c1809e167d",
   "metadata": {},
   "outputs": [],
   "source": []
  },
  {
   "cell_type": "code",
   "execution_count": null,
   "id": "642e49b2-9d05-4658-b187-294d5b7079dd",
   "metadata": {},
   "outputs": [],
   "source": []
  },
  {
   "cell_type": "code",
   "execution_count": null,
   "id": "92468177-3e10-4308-81ed-d2144aff50ad",
   "metadata": {},
   "outputs": [],
   "source": []
  },
  {
   "cell_type": "code",
   "execution_count": null,
   "id": "4451872e-91db-4d78-b989-108b1567137f",
   "metadata": {},
   "outputs": [],
   "source": []
  }
 ],
 "metadata": {
  "kernelspec": {
   "display_name": "Python GenEnv",
   "language": "python",
   "name": "gen_env"
  },
  "language_info": {
   "codemirror_mode": {
    "name": "ipython",
    "version": 3
   },
   "file_extension": ".py",
   "mimetype": "text/x-python",
   "name": "python",
   "nbconvert_exporter": "python",
   "pygments_lexer": "ipython3",
   "version": "3.9.21"
  }
 },
 "nbformat": 4,
 "nbformat_minor": 5
}
